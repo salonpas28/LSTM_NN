{
 "cells": [
  {
   "cell_type": "code",
   "execution_count": null,
   "id": "08382225",
   "metadata": {},
   "outputs": [],
   "source": [
    "# import library\n",
    "import pandas as pd\n",
    "import numpy as np\n",
    "import matplotlib.pyplot as plt\n",
    "import seaborn as sns"
   ]
  },
  {
   "cell_type": "code",
   "execution_count": null,
   "id": "7209a254",
   "metadata": {},
   "outputs": [],
   "source": [
    "# load data\n",
    "data = pd.read_csv(\"/content/drive/MyDrive/train_preprocess.tsv.txt\", sep='\\t', names=['text','label'])\n",
    "data"
   ]
  },
  {
   "cell_type": "code",
   "execution_count": null,
   "id": "65384cc5",
   "metadata": {},
   "outputs": [],
   "source": [
    "data.label.value_counts()"
   ]
  },
  {
   "cell_type": "code",
   "execution_count": null,
   "id": "1a1f6a24",
   "metadata": {},
   "outputs": [],
   "source": [
    "# cek data\n",
    "data.duplicated().sum()"
   ]
  },
  {
   "cell_type": "code",
   "execution_count": null,
   "id": "2c3e3f3a",
   "metadata": {},
   "outputs": [],
   "source": [
    "data = data.drop_duplicates()"
   ]
  },
  {
   "cell_type": "code",
   "execution_count": null,
   "id": "65c027fe",
   "metadata": {},
   "outputs": [],
   "source": [
    "data = data.reset_index(drop=True)\n",
    "data"
   ]
  },
  {
   "cell_type": "code",
   "execution_count": null,
   "id": "c3252ca8",
   "metadata": {},
   "outputs": [],
   "source": [
    "data.isna()"
   ]
  },
  {
   "cell_type": "code",
   "execution_count": null,
   "id": "0a471b8b",
   "metadata": {},
   "outputs": [],
   "source": [
    "data.isna().sum()"
   ]
  },
  {
   "cell_type": "code",
   "execution_count": null,
   "id": "3b717e72",
   "metadata": {},
   "outputs": [],
   "source": [
    "# kolom baru total_char\n",
    "len(data.text)"
   ]
  },
  {
   "cell_type": "code",
   "execution_count": null,
   "id": "c766e32c",
   "metadata": {},
   "outputs": [],
   "source": [
    "data['total_char'] = data.text.apply(len)\n",
    "data.head()"
   ]
  },
  {
   "cell_type": "code",
   "execution_count": null,
   "id": "2465ec18",
   "metadata": {},
   "outputs": [],
   "source": [
    "# kolom baru total_word\n",
    "print(data.text)"
   ]
  },
  {
   "cell_type": "code",
   "execution_count": null,
   "id": "079ef375",
   "metadata": {},
   "outputs": [],
   "source": [
    "data[\"total_word\"] = data.text.apply(lambda words: len(words.split()))\n",
    "data"
   ]
  },
  {
   "cell_type": "code",
   "execution_count": null,
   "id": "ab25095a",
   "metadata": {},
   "outputs": [],
   "source": [
    "# descriptive statistic\n",
    "data.corr()"
   ]
  },
  {
   "cell_type": "code",
   "execution_count": null,
   "id": "b979e157",
   "metadata": {},
   "outputs": [],
   "source": [
    "data.plot(x = \"total_word\",y = \"total_char\",kind = \"scatter\")"
   ]
  },
  {
   "cell_type": "code",
   "execution_count": null,
   "id": "29e96180",
   "metadata": {},
   "outputs": [],
   "source": [
    "data.groupby(\"label\").total_word.sum().plot(kind='bar')"
   ]
  },
  {
   "cell_type": "code",
   "execution_count": null,
   "id": "2146f2b9",
   "metadata": {},
   "outputs": [],
   "source": [
    "data.groupby(\"label\").total_char.sum().plot(kind='bar')"
   ]
  },
  {
   "cell_type": "code",
   "execution_count": null,
   "id": "0ba13a8c",
   "metadata": {},
   "outputs": [],
   "source": [
    "# neural network\n",
    "import re\n",
    "\n",
    "def cleansing(txt):\n",
    "  string = txt.lower()\n",
    "  string = re.sub(r'[^a-zA-Z0-9]', ' ', string)\n",
    "  return string\n",
    "\n",
    "data[\"txt_clean\"] = data.text.apply(cleansing)"
   ]
  },
  {
   "cell_type": "code",
   "execution_count": null,
   "id": "9ff65c99",
   "metadata": {},
   "outputs": [],
   "source": [
    "data.pop(\"text\")\n",
    "data.pop(\"total_char\")\n",
    "data.drop(\"total_word\", axis=1, inplace=True)\n",
    "data.head()"
   ]
  },
  {
   "cell_type": "code",
   "execution_count": null,
   "id": "c90e2732",
   "metadata": {},
   "outputs": [],
   "source": [
    "data_preprocessed = data.txt_clean.tolist()\n",
    "data_preprocessed"
   ]
  },
  {
   "cell_type": "code",
   "execution_count": null,
   "id": "a8c8b461",
   "metadata": {},
   "outputs": [],
   "source": [
    "from sklearn.feature_extraction.text import CountVectorizer\n",
    "\n",
    "count_vect = CountVectorizer()\n",
    "count_vect.fit(data_preprocessed)\n",
    "\n",
    "X = count_vect.transform(data_preprocessed)\n",
    "print (\"Feature Extraction selesai\")"
   ]
  },
  {
   "cell_type": "code",
   "execution_count": null,
   "id": "021aaa2d",
   "metadata": {},
   "outputs": [],
   "source": [
    "import pickle\n",
    "\n",
    "pickle.dump(count_vect, open(\"feature.pkl\", \"wb\"))"
   ]
  },
  {
   "cell_type": "code",
   "execution_count": null,
   "id": "17e29d21",
   "metadata": {},
   "outputs": [],
   "source": [
    "from sklearn.model_selection import train_test_split\n",
    "\n",
    "classes = data.label\n",
    "X_train, X_test, y_train, y_test = train_test_split(X, classes, test_size = 0.2)"
   ]
  },
  {
   "cell_type": "code",
   "execution_count": null,
   "id": "237e7225",
   "metadata": {},
   "outputs": [],
   "source": [
    "from sklearn.neural_network import MLPClassifier\n",
    "\n",
    "model = MLPClassifier() \n",
    "model.fit(X_train, y_train)\n",
    "\n",
    "print (\"Training selesai\")"
   ]
  },
  {
   "cell_type": "code",
   "execution_count": null,
   "id": "0a7c7a06",
   "metadata": {},
   "outputs": [],
   "source": [
    "from sklearn.metrics import classification_report\n",
    "\n",
    "test = model.predict(X_test)\n",
    "\n",
    "print (\"Testing selesai\")\n",
    "\n",
    "print(classification_report(y_test, test)) "
   ]
  },
  {
   "cell_type": "code",
   "execution_count": null,
   "id": "45600e21",
   "metadata": {},
   "outputs": [],
   "source": [
    "pickle.dump(model, open(\"model_neural.pkl\", \"wb\"))"
   ]
  },
  {
   "cell_type": "code",
   "execution_count": null,
   "id": "6740d1f8",
   "metadata": {},
   "outputs": [],
   "source": [
    "import numpy as np\n",
    "from sklearn.neural_network import MLPClassifier\n",
    "from sklearn.metrics import classification_report\n",
    "from sklearn.metrics import accuracy_score\n",
    "from sklearn.model_selection import KFold\n",
    "\n",
    "kf = KFold(n_splits=5,random_state=42,shuffle=True)\n",
    "\n",
    "accuracies = []\n",
    "\n",
    "y = classes\n",
    "\n",
    "for iteration, data in enumerate(kf.split(X), start=1):\n",
    "\n",
    "    data_train   = X[data[0]]\n",
    "    target_train = y[data[0]]\n",
    "\n",
    "    data_test    = X[data[1]]\n",
    "    target_test  = y[data[1]]\n",
    "\n",
    "    clf = MLPClassifier()\n",
    "    clf.fit(data_train,target_train)\n",
    "\n",
    "    preds = clf.predict(data_test)\n",
    "  \n",
    "    accuracy = accuracy_score(target_test,preds)\n",
    "\n",
    "    print(\"Training ke-\", iteration)\n",
    "    print(classification_report(target_test,preds))\n",
    "    print(\"======================================================\")\n",
    "\n",
    "    accuracies.append(accuracy)\n",
    "\n",
    "average_accuracy = np.mean(accuracies)\n",
    "\n",
    "print()\n",
    "print()\n",
    "print()\n",
    "print(\"Rata-rata Accuracy: \", average_accuracy)"
   ]
  },
  {
   "cell_type": "code",
   "execution_count": null,
   "id": "71d7f9fe",
   "metadata": {},
   "outputs": [],
   "source": [
    "original_text =  '''\n",
    "semua patut diapresiasi.\n",
    "'''\n",
    "\n",
    "loaded_transformer = pickle.load(open('/content/feature.pkl', 'rb'))\n",
    "text = loaded_transformer.transform([cleansing(original_text)])\n",
    "\n",
    "loaded_model = pickle.load(open('/content/model_neural.pkl', 'rb'))\n",
    "result = loaded_model.predict(text)[0]\n",
    "print(\"Sentiment:\")\n",
    "print()\n",
    "print(result)"
   ]
  }
 ],
 "metadata": {
  "kernelspec": {
   "display_name": "Python 3 (ipykernel)",
   "language": "python",
   "name": "python3"
  },
  "language_info": {
   "codemirror_mode": {
    "name": "ipython",
    "version": 3
   },
   "file_extension": ".py",
   "mimetype": "text/x-python",
   "name": "python",
   "nbconvert_exporter": "python",
   "pygments_lexer": "ipython3",
   "version": "3.9.13"
  }
 },
 "nbformat": 4,
 "nbformat_minor": 5
}
